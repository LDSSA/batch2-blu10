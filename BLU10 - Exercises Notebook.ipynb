{
 "cells": [
  {
   "cell_type": "markdown",
   "metadata": {
    "deletable": false,
    "editable": false,
    "nbgrader": {
     "checksum": "df77d972b36dce4693cd6841628118c8",
     "grade": false,
     "grade_id": "cell-19f66f0c50440215",
     "locked": true,
     "schema_version": 1,
     "solution": false
    }
   },
   "source": [
    "# BLU10 - Exercises Notebook"
   ]
  },
  {
   "cell_type": "code",
   "execution_count": null,
   "metadata": {
    "deletable": false,
    "editable": false,
    "nbgrader": {
     "checksum": "9873d10c93e722bcaf4bb74817a34028",
     "grade": false,
     "grade_id": "cell-17cb5d55dfe77353",
     "locked": true,
     "schema_version": 1,
     "solution": false
    }
   },
   "outputs": [],
   "source": [
    "import hashlib\n",
    "\n",
    "import os\n",
    "import numpy as np\n",
    "import time"
   ]
  },
  {
   "cell_type": "markdown",
   "metadata": {
    "deletable": false,
    "editable": false,
    "nbgrader": {
     "checksum": "e721b0d6989097a386f9d7de17876bf6",
     "grade": false,
     "grade_id": "cell-f29e54b080629184",
     "locked": true,
     "schema_version": 1,
     "solution": false
    }
   },
   "source": [
    "# 1 Hacker News algorithm\n",
    "\n",
    "In this exercise we  implement one of the most famous algorithms in the world:\n",
    "* The Hacker News ranking algorithm.\n",
    "\n",
    "Excited? Let's get to it. How the algorithm works:\n",
    "\n",
    "$$Score = \\frac{(P-1)}{(T+2)^G}$$\n",
    "\n",
    "The points of an item are $P$. (We write $P-1$ to negate the submitter's vote.)\n",
    "\n",
    "$T$ stands for the time since submission, while $G$ stands for gravity and defaults to 1.8.\n",
    "\n",
    "These algorithms are necessary because they show us how to use context in non-personalized recommendations.\n",
    "\n",
    "Gravity and time make the algorithm behave in such a way that:\n",
    "* The score decreases as time since submission increases\n",
    "* The score decreases faster when we increase gravity.\n",
    "\n",
    "Such is a strategic decision because content sites such as HN are pressured to serve fresh content at all times.\n",
    "\n",
    "# 2 Vectorization\n",
    "\n",
    "You are expected to use vectorization and avoid `for` loops at all times.\n",
    "\n",
    "If you don't practice now, it will be  harder when facing bigger datasets (i.e., the Hackathon)."
   ]
  },
  {
   "cell_type": "markdown",
   "metadata": {
    "deletable": false,
    "editable": false,
    "nbgrader": {
     "checksum": "f0929d761640fdc0bda58e94e1782944",
     "grade": false,
     "grade_id": "cell-e90aa72d4ab0f394",
     "locked": true,
     "schema_version": 1,
     "solution": false
    }
   },
   "source": [
    "# 3 Ratings matrix (not-graded)\n",
    "\n",
    "The first thing we will do is building the ratings matrix, just like we did in the classes."
   ]
  },
  {
   "cell_type": "code",
   "execution_count": null,
   "metadata": {
    "deletable": false,
    "editable": false,
    "nbgrader": {
     "checksum": "01e3844b24b96d9c81e88f71ad90589e",
     "grade": false,
     "grade_id": "cell-9f74acfce26d2d61",
     "locked": true,
     "schema_version": 1,
     "solution": false
    }
   },
   "outputs": [],
   "source": [
    "def make_ratings():\n",
    "\n",
    "    ratings = read_ratings()\n",
    "\n",
    "    users, user_pos = np.unique(ratings[:, 0], return_inverse=True)\n",
    "    items, item_pos = np.unique(ratings[:, 1], return_inverse=True)\n",
    "\n",
    "    arr = np.zeros((len(users), len(items)))\n",
    "    arr[user_pos, item_pos] = ratings[:, 2]\n",
    "\n",
    "    return arr\n",
    "\n",
    "\n",
    "def read_ratings():\n",
    "    path = os.path.join('data', 'ml-latest-small', 'ratings.csv')\n",
    "    data = np.genfromtxt(path, delimiter=',', skip_header=1, usecols=[0, 1, 2])\n",
    "\n",
    "    return data\n",
    "\n",
    "\n",
    "R = make_ratings()\n",
    "R"
   ]
  },
  {
   "cell_type": "markdown",
   "metadata": {
    "deletable": false,
    "editable": false,
    "nbgrader": {
     "checksum": "639e052df6373d0d095992dda5dfb2fb",
     "grade": false,
     "grade_id": "cell-f7e5c5cce16312a6",
     "locked": true,
     "schema_version": 1,
     "solution": false
    }
   },
   "source": [
    "So here we are: users as rows, items as columns and ratings as values."
   ]
  },
  {
   "cell_type": "markdown",
   "metadata": {
    "deletable": false,
    "editable": false,
    "nbgrader": {
     "checksum": "ce4e1d4dc26473595ef587604ea37eeb",
     "grade": false,
     "grade_id": "cell-e1001e8bda925596",
     "locked": true,
     "schema_version": 1,
     "solution": false
    }
   },
   "source": [
    "# 4 Votes matrix (graded)\n",
    "\n",
    "We will adapt the algorithm, so that:\n",
    "\n",
    "$$Score = \\frac{P}{(T+2)^G}$$\n",
    "\n",
    "But the first challenge we face is that we have ratings, not votes.\n",
    "\n",
    "Thus, our first goal is to use a treshold, to define positive votes. We will use a rating above 3.\n",
    "\n",
    "We will adapt our `make_data` function, to create a `make_votes`."
   ]
  },
  {
   "cell_type": "code",
   "execution_count": null,
   "metadata": {
    "deletable": false,
    "nbgrader": {
     "checksum": "cbb08201e3149efee24994b4572d3b14",
     "grade": false,
     "grade_id": "cell-8515c5b7febf1fa2",
     "locked": false,
     "schema_version": 1,
     "solution": true
    }
   },
   "outputs": [],
   "source": [
    "def make_votes():\n",
    "\n",
    "    ratings = read_ratings()\n",
    "    \n",
    "    # Replace ratings < 4 with 0.\n",
    "    # You need to combine masking, indexing and assignment.\n",
    "    # YOUR CODE HERE\n",
    "    raise NotImplementedError()\n",
    "    \n",
    "    # users, user_pos = ...\n",
    "    # items, item_pos = ...\n",
    "    # YOUR CODE HERE\n",
    "    raise NotImplementedError()\n",
    "    \n",
    "    # Initialize the array with zeros, votes = ...\n",
    "    # Fill in the array , votes = ...\n",
    "    # YOUR CODE HERE\n",
    "    raise NotImplementedError()\n",
    "    \n",
    "    return votes\n",
    "\n",
    "\n",
    "P = make_votes()"
   ]
  },
  {
   "cell_type": "code",
   "execution_count": null,
   "metadata": {
    "deletable": false,
    "editable": false,
    "nbgrader": {
     "checksum": "be5b92495ed76dcb7770ab33931e6484",
     "grade": true,
     "grade_id": "cell-65dbd5e56294c28c",
     "locked": true,
     "points": 2,
     "schema_version": 1,
     "solution": false
    }
   },
   "outputs": [],
   "source": [
    "assert(P.shape == (671, 9066))\n",
    "\n",
    "expected_hash = '400c52dd5bd0047d64c0582af027b387a7938a64283d0d4f727331140cb6462c'\n",
    "assert(hashlib.sha256(P[0, 931]).hexdigest() == expected_hash)\n",
    "\n",
    "expected_hash = '400c52dd5bd0047d64c0582af027b387a7938a64283d0d4f727331140cb6462c'\n",
    "assert(hashlib.sha256(P[0, 1515]).hexdigest() == expected_hash)\n",
    "\n",
    "expected_hash = 'af5570f5a1810b7af78caf4bc70a660f0df51e42baf91d4de5b2328de0e83dfc'\n",
    "assert(hashlib.sha256(P[0, 4546]).hexdigest() == expected_hash)"
   ]
  },
  {
   "cell_type": "markdown",
   "metadata": {
    "deletable": false,
    "editable": false,
    "nbgrader": {
     "checksum": "e04f75c72db5b88a029faaa4b56bbdf8",
     "grade": false,
     "grade_id": "cell-4c3a5b743fb0ef1b",
     "locked": true,
     "schema_version": 1,
     "solution": false
    }
   },
   "source": [
    "# 5 Count votes (graded)\n",
    "\n",
    "Now that we have a proper matrix, we count the votes."
   ]
  },
  {
   "cell_type": "code",
   "execution_count": null,
   "metadata": {
    "deletable": false,
    "nbgrader": {
     "checksum": "2496cdfe524761546b680905418879f6",
     "grade": false,
     "grade_id": "cell-b380716afcbff97e",
     "locked": false,
     "schema_version": 1,
     "solution": true
    }
   },
   "outputs": [],
   "source": [
    "def count_votes(arr):\n",
    "    # Transform the values into booleans, using comparison.\n",
    "    # Sum over the rows to count the votes.\n",
    "    # The expected ouput is a row vector.\n",
    "    # YOUR CODE HERE\n",
    "    raise NotImplementedError()\n",
    "\n",
    "\n",
    "count_votes(P)"
   ]
  },
  {
   "cell_type": "code",
   "execution_count": null,
   "metadata": {
    "deletable": false,
    "editable": false,
    "nbgrader": {
     "checksum": "e907baf05e1d8541d6211e1ed20d0617",
     "grade": true,
     "grade_id": "cell-cb6f767b26bf9f3f",
     "locked": true,
     "points": 2,
     "schema_version": 1,
     "solution": false
    }
   },
   "outputs": [],
   "source": [
    "votes = count_votes(P)\n",
    "\n",
    "assert(votes.shape == (1, 9066))\n",
    "\n",
    "expected_hash = 'b8282e78d87c2a42f7c0f5b543c0d7760d3fe5a3860a25c20ec57ddaa4d80b81'\n",
    "assert(hashlib.sha256(votes[:, 1]).hexdigest() == expected_hash)\n",
    "\n",
    "expected_hash = '72976ee8f1497b6bcf1c12b3fdaf0cdc41ceab14646fe0fb49f37895b5889895'\n",
    "assert(hashlib.sha256(votes[:, 10]).hexdigest() == expected_hash)\n",
    "\n",
    "expected_hash = 'f090d8def1e8b5306741957d592246cc08a6e5c88bfe9fe501389cb17c35d971'\n",
    "assert(hashlib.sha256(votes[:, 100]).hexdigest() == expected_hash)\n",
    "\n",
    "expected_hash = '048db3815473d7aab19caa136e5cd923a3ac45293f3df2aa5a759cfa96c81332'\n",
    "assert(hashlib.sha256(votes[:, 1000]).hexdigest() == expected_hash)"
   ]
  },
  {
   "cell_type": "markdown",
   "metadata": {
    "deletable": false,
    "editable": false,
    "nbgrader": {
     "checksum": "5170a75f6cb9788bb68c36328b83684c",
     "grade": false,
     "grade_id": "cell-296d2ab08c70fba0",
     "locked": true,
     "schema_version": 1,
     "solution": false
    }
   },
   "source": [
    "# 6 Timestamps matrix (graded)\n",
    "\n",
    "We are done with voting. So far, this was a standard non-personalized approach.\n",
    "\n",
    "Time to make things fun, and combine voting with context, namely time."
   ]
  },
  {
   "cell_type": "code",
   "execution_count": null,
   "metadata": {
    "deletable": false,
    "nbgrader": {
     "checksum": "c3ee39db85030cd450f3a864beafde55",
     "grade": false,
     "grade_id": "cell-5f30eb3fdc4a34e0",
     "locked": false,
     "schema_version": 1,
     "solution": true
    }
   },
   "outputs": [],
   "source": [
    "def make_timestamps():\n",
    "\n",
    "    timestamps = read_timestamps()\n",
    "    \n",
    "    # users, user_pos = ...\n",
    "    # items, item_pos = ...\n",
    "    # YOUR CODE HERE\n",
    "    raise NotImplementedError()\n",
    "    \n",
    "    # Create the matrix of zeros, arr = ...\n",
    "    # Fill it in, arr = ...\n",
    "    # YOUR CODE HERE\n",
    "    raise NotImplementedError()\n",
    "    \n",
    "    return arr\n",
    "\n",
    "\n",
    "def read_timestamps():\n",
    "    # Make sure you read ratings.csv properly.\n",
    "    # YOUR CODE HERE\n",
    "    raise NotImplementedError()\n",
    "    \n",
    "    return data\n",
    "\n",
    "\n",
    "T = make_timestamps()"
   ]
  },
  {
   "cell_type": "code",
   "execution_count": null,
   "metadata": {
    "deletable": false,
    "editable": false,
    "nbgrader": {
     "checksum": "f90e9594745390eb70ad5f28eed76457",
     "grade": true,
     "grade_id": "cell-fe1a48416d80ce83",
     "locked": true,
     "points": 2,
     "schema_version": 1,
     "solution": false
    }
   },
   "outputs": [],
   "source": [
    "assert(T.shape == P.shape)\n",
    "\n",
    "expected_hash = '717372b3a4caf73c8bc3575b77033c9d2dfa2643540b9175f6756b3cb0ad6651'\n",
    "assert(hashlib.sha256(T[0, 30]).hexdigest() == expected_hash)\n",
    "\n",
    "expected_hash = '64506e7145f725b946bf27ffec291f67eaab1d05c2f5292835cc0afafee90836'\n",
    "assert(hashlib.sha256(T[0, 859]).hexdigest() == expected_hash)\n",
    "\n",
    "expected_hash = '416e4a0846ac491812331fa072aba6cc760912ab94221625a084c5811873a8bf'\n",
    "assert(hashlib.sha256(T[670, 4597]).hexdigest() == expected_hash)"
   ]
  },
  {
   "cell_type": "markdown",
   "metadata": {
    "deletable": false,
    "editable": false,
    "nbgrader": {
     "checksum": "8229dc92fc0da400dc756965f209605f",
     "grade": false,
     "grade_id": "cell-b2b81786541cbe05",
     "locked": true,
     "schema_version": 1,
     "solution": false
    }
   },
   "source": [
    "# 7 Time of publication (graded)\n",
    "\n",
    "We will consider the time of publication to be the timestamp of the first rating."
   ]
  },
  {
   "cell_type": "code",
   "execution_count": null,
   "metadata": {
    "deletable": false,
    "nbgrader": {
     "checksum": "a2353330b821b744d15a0e7ab7f5ee80",
     "grade": false,
     "grade_id": "cell-b64a44df4df1a0d5",
     "locked": false,
     "schema_version": 1,
     "solution": true
    }
   },
   "outputs": [],
   "source": [
    "def time_of_publication(arr):\n",
    "    # Use masking and indexing to transform zero into np.NaN.\n",
    "    # YOUR CODE HERE\n",
    "    raise NotImplementedError()\n",
    "    # Use nanmin to extrac the minimum timestamp per item.\n",
    "    # The result must be a row vector.\n",
    "    # YOUR CODE HERE\n",
    "    raise NotImplementedError()\n",
    "\n",
    "\n",
    "time_of_publication(T)"
   ]
  },
  {
   "cell_type": "code",
   "execution_count": null,
   "metadata": {
    "deletable": false,
    "editable": false,
    "nbgrader": {
     "checksum": "c14eb1316bc725c60ab257af7785c03f",
     "grade": true,
     "grade_id": "cell-67bece7ef08ce2c3",
     "locked": true,
     "points": 2,
     "schema_version": 1,
     "solution": false
    }
   },
   "outputs": [],
   "source": [
    "time_of_pub = time_of_publication(T)\n",
    "\n",
    "assert(time_of_pub.shape == (1, 9066))\n",
    "\n",
    "expected_hash = '9be8cdc2a4d84390391ae936510a4ac60b7fd5cf05580283aebdf896dc21e728'\n",
    "assert(hashlib.sha256(time_of_pub[:, 2]).hexdigest() == expected_hash)\n",
    "\n",
    "expected_hash = '394da251e3341ab186c257b94534287253cadaf685a0cafaa6e06b4ff1e8fc29'\n",
    "assert(hashlib.sha256(time_of_pub[:, 20]).hexdigest() == expected_hash)\n",
    "\n",
    "expected_hash = 'fc48957135a2abe765d889fec7a4dda875484904f7a89356ebaf65028ec3db10'\n",
    "assert(hashlib.sha256(time_of_pub[:, 200]).hexdigest() == expected_hash)\n",
    "\n",
    "expected_hash = 'ec8169903098d08dd523c9cadc2d836477b670f241ccd2ab452d1eea88ae54c5'\n",
    "assert(hashlib.sha256(time_of_pub[:, 2000]).hexdigest() == expected_hash)"
   ]
  },
  {
   "cell_type": "markdown",
   "metadata": {
    "deletable": false,
    "editable": false,
    "nbgrader": {
     "checksum": "31c6b799004be3911670d7a5d3b10242",
     "grade": false,
     "grade_id": "cell-673ced6515bfd668",
     "locked": true,
     "schema_version": 1,
     "solution": false
    }
   },
   "source": [
    "# 8 Time since publication (graded)\n",
    "\n",
    "The next step is to implement the time since publication."
   ]
  },
  {
   "cell_type": "code",
   "execution_count": null,
   "metadata": {
    "deletable": false,
    "nbgrader": {
     "checksum": "c3e3da1a230c63b7b488466d8a3e8a1f",
     "grade": false,
     "grade_id": "cell-4d6b85feaec6af08",
     "locked": false,
     "schema_version": 1,
     "solution": true
    }
   },
   "outputs": [],
   "source": [
    "def time_since_publication(arr):\n",
    "    current_time = 1533391699.2220602\n",
    "    # Create a new matrix with the time since publication.\n",
    "    # YOUR CODE HERE\n",
    "    raise NotImplementedError()\n",
    "\n",
    "    \n",
    "time_since_publication(time_of_publication(T))"
   ]
  },
  {
   "cell_type": "code",
   "execution_count": null,
   "metadata": {
    "deletable": false,
    "editable": false,
    "nbgrader": {
     "checksum": "9cf2011d6005b14904f36721100c8593",
     "grade": true,
     "grade_id": "cell-802046e95215e30c",
     "locked": true,
     "points": 2,
     "schema_version": 1,
     "solution": false
    }
   },
   "outputs": [],
   "source": [
    "time_since_pub = time_since_publication(time_of_pub)\n",
    "\n",
    "assert(time_since_pub.shape == (1, 9066))\n",
    "\n",
    "expected_hash = '4762f89e5e4b40854635c44597a71df6a2e6c89f1e39604ffbb88ab73993377c'\n",
    "assert(hashlib.sha256(time_since_pub[:, 2]).hexdigest() == expected_hash)\n",
    "\n",
    "expected_hash = 'b6c53b01aa1747d036addd9b80ea3f8305cba3d0d8351908dd4804178e4b60f3'\n",
    "assert(hashlib.sha256(time_since_pub[:, 20]).hexdigest() == expected_hash)\n",
    "\n",
    "expected_hash = 'a7fd4d854b5f88214f32ff31af9d6666f347976981b3ee5093644e83bdcb4c15'\n",
    "assert(hashlib.sha256(time_since_pub[:, 200]).hexdigest() == expected_hash)\n",
    "\n",
    "expected_hash = '3e136ead263ebeb64b51d882453494096d30645316aa08bdcb24942e87c0e32a'\n",
    "assert(hashlib.sha256(time_since_pub[:, 2000]).hexdigest() == expected_hash)"
   ]
  },
  {
   "cell_type": "markdown",
   "metadata": {
    "deletable": false,
    "editable": false,
    "nbgrader": {
     "checksum": "5bd2479353ddeb7d3a26b8ca2bd50115",
     "grade": false,
     "grade_id": "cell-0f5d79a620fcd3ed",
     "locked": true,
     "schema_version": 1,
     "solution": false
    }
   },
   "source": [
    "# 9 Gravity (graded)\n",
    "\n",
    "Finally, we implement gravity."
   ]
  },
  {
   "cell_type": "code",
   "execution_count": null,
   "metadata": {
    "deletable": false,
    "nbgrader": {
     "checksum": "2b5e4d4f8136b85011c4f150a00073e3",
     "grade": false,
     "grade_id": "cell-e3cd3f0cde3ff3b0",
     "locked": false,
     "schema_version": 1,
     "solution": true
    }
   },
   "outputs": [],
   "source": [
    "def gravity(arr, g=1.8):\n",
    "    # Return a matrix with valuea + 2 and gravity (see formula).\n",
    "    # YOUR CODE HERE\n",
    "    raise NotImplementedError()\n",
    "\n",
    "\n",
    "gravity(time_since_publication(time_of_publication(T)))"
   ]
  },
  {
   "cell_type": "code",
   "execution_count": null,
   "metadata": {
    "deletable": false,
    "editable": false,
    "nbgrader": {
     "checksum": "fbde51ae4a711bff0b7055c950e1accb",
     "grade": true,
     "grade_id": "cell-12f554335b7127ab",
     "locked": true,
     "points": 2,
     "schema_version": 1,
     "solution": false
    }
   },
   "outputs": [],
   "source": [
    "G = gravity(time_since_pub)\n",
    "\n",
    "assert(G.shape == (1, 9066))\n",
    "\n",
    "expected_hash = '8b62dbd48bbb7359717410c9fe6f946f31f9aec54dbaca3289ed9b2b398b2f25'\n",
    "assert(hashlib.sha256(G[:, 3]).hexdigest() == expected_hash)\n",
    "\n",
    "expected_hash = 'aaf3889f7c3be75463c563c7563f06c82bef0b8d5d459a8c5cd2adf68fcaf4c8'\n",
    "assert(hashlib.sha256(G[:, 30]).hexdigest() == expected_hash)\n",
    "\n",
    "expected_hash = '125addaecaf28b3d75c818b5663476b9d8091ef1bae6a3e6e4655a50d169a2de'\n",
    "assert(hashlib.sha256(G[:, 300]).hexdigest() == expected_hash)\n",
    "\n",
    "expected_hash = '7350ad251ac369b2278003606237d1e1b24c833826845bec87fb686ba1c20a08'\n",
    "assert(hashlib.sha256(G[:, 3000]).hexdigest() == expected_hash)"
   ]
  },
  {
   "cell_type": "markdown",
   "metadata": {
    "deletable": false,
    "editable": false,
    "nbgrader": {
     "checksum": "cb367efdf2338977a69485cc3f569ea5",
     "grade": false,
     "grade_id": "cell-0c193c9d1e5f1fc7",
     "locked": true,
     "schema_version": 1,
     "solution": false
    }
   },
   "source": [
    "# 10 Predict score (graded)\n",
    "\n",
    "The key computation in any RS is the prediction bit.\n",
    "\n",
    "Here, we compute the expected utility of a given item, using the Hacker News formula."
   ]
  },
  {
   "cell_type": "code",
   "execution_count": null,
   "metadata": {
    "deletable": false,
    "nbgrader": {
     "checksum": "890469dc6313ecb1ed3ec6343476e07f",
     "grade": false,
     "grade_id": "cell-4f4b070c718b9eef",
     "locked": false,
     "schema_version": 1,
     "solution": true
    }
   },
   "outputs": [],
   "source": [
    "def predict_score():\n",
    "    \n",
    "    # Count votes, such as P = ...\n",
    "    # YOUR CODE HERE\n",
    "    raise NotImplementedError()\n",
    "    \n",
    "    # Time since publication, with gravity\n",
    "    # G = ...\n",
    "    # YOUR CODE HERE\n",
    "    raise NotImplementedError()\n",
    "    \n",
    "    # Return the required division.\n",
    "    # YOUR CODE HERE\n",
    "    raise NotImplementedError()\n",
    "\n",
    "\n",
    "S = predict_score()\n",
    "S"
   ]
  },
  {
   "cell_type": "code",
   "execution_count": null,
   "metadata": {
    "deletable": false,
    "editable": false,
    "nbgrader": {
     "checksum": "20225e57a9d9b8be463df6a220635119",
     "grade": true,
     "grade_id": "cell-c5bd5432ea85f379",
     "locked": true,
     "points": 2,
     "schema_version": 1,
     "solution": false
    }
   },
   "outputs": [],
   "source": [
    "assert(S.shape == (1, 9066))\n",
    "\n",
    "expected_hash = '017426ad32c0bafed33adb8e76265bceb64e9ec7821080b6c21f8ce0bf54f119'\n",
    "assert(hashlib.sha256(S[:, 4]).hexdigest() == expected_hash)\n",
    "\n",
    "expected_hash = 'af5570f5a1810b7af78caf4bc70a660f0df51e42baf91d4de5b2328de0e83dfc'\n",
    "assert(hashlib.sha256(S[:, 40]).hexdigest() == expected_hash)\n",
    "\n",
    "expected_hash = '4469d9a3985e163aebff3c4ea8152654f3c624a182764e820ed707855b1c9c4c'\n",
    "assert(hashlib.sha256(S[:, 400]).hexdigest() == expected_hash)\n",
    "\n",
    "expected_hash = '83bb006b9895552a70c9684e9af8beb1d2a9b2ed2fb193e4d8da190c4adcd41e'\n",
    "assert(hashlib.sha256(S[:, 4000]).hexdigest() == expected_hash)"
   ]
  },
  {
   "cell_type": "markdown",
   "metadata": {},
   "source": [
    "# 11 Best-item (graded)\n",
    "\n",
    "Knowing the predicted utility for each time, we want to find out what is the best item."
   ]
  },
  {
   "cell_type": "code",
   "execution_count": null,
   "metadata": {
    "deletable": false,
    "nbgrader": {
     "checksum": "3b18fad2d652c0c5003333babe512dd6",
     "grade": false,
     "grade_id": "cell-e023faafc4be1050",
     "locked": false,
     "schema_version": 1,
     "solution": true
    }
   },
   "outputs": [],
   "source": [
    "def best_item():\n",
    "    scores = predict_score()\n",
    "    # Return the index of the best score.\n",
    "    # YOUR CODE HERE\n",
    "    raise NotImplementedError()\n",
    "\n",
    "\n",
    "i = best_item()"
   ]
  },
  {
   "cell_type": "code",
   "execution_count": null,
   "metadata": {
    "deletable": false,
    "editable": false,
    "nbgrader": {
     "checksum": "415cb5af7f0da4ab16601cbbc0cc0454",
     "grade": true,
     "grade_id": "cell-651eb246b2f3aff8",
     "locked": true,
     "points": 3,
     "schema_version": 1,
     "solution": false
    }
   },
   "outputs": [],
   "source": [
    "expected_hash = '32665ec558675bf4e936b43e29cb00315abd00c3381a887cace8378fefd091c1'\n",
    "assert(hashlib.sha256(i).hexdigest() == expected_hash)"
   ]
  },
  {
   "cell_type": "markdown",
   "metadata": {
    "deletable": false,
    "editable": false,
    "nbgrader": {
     "checksum": "ecb29ce328c6583f74e2feb8ac3e34bd",
     "grade": false,
     "grade_id": "cell-e9552c4318d65c8d",
     "locked": true,
     "schema_version": 1,
     "solution": false
    }
   },
   "source": [
    "# 12 Top-*N* (graded)\n",
    "\n",
    "However, the most common approach to providing recommendations is the top-$N$ list.\n",
    "\n",
    "The last step is to define a funtion that retuns the top-$N$ items, based on our score. "
   ]
  },
  {
   "cell_type": "code",
   "execution_count": null,
   "metadata": {
    "deletable": false,
    "nbgrader": {
     "checksum": "eed07e1eca2600e42b1c84326868e37d",
     "grade": false,
     "grade_id": "cell-44b693292605cfc4",
     "locked": false,
     "schema_version": 1,
     "solution": true
    }
   },
   "outputs": [],
   "source": [
    "def top_n(n):\n",
    "    scores = predict_score()\n",
    "    # Return the indexes of the top-N items.\n",
    "    # YOUR CODE HERE\n",
    "    raise NotImplementedError()\n",
    "\n",
    "\n",
    "L = top_n(n=5)\n",
    "L"
   ]
  },
  {
   "cell_type": "code",
   "execution_count": null,
   "metadata": {
    "deletable": false,
    "editable": false,
    "nbgrader": {
     "checksum": "46ef45859f2bbbb0074a5d5915ba5822",
     "grade": true,
     "grade_id": "cell-5ef214032eaea2e6",
     "locked": true,
     "points": 3,
     "schema_version": 1,
     "solution": false
    }
   },
   "outputs": [],
   "source": [
    "expected_hash = 'b8615989e73e34455bd773809690f5c5580eb9ecab36dbb275f2c99f1f3ac15a'\n",
    "assert(hashlib.sha256(L).hexdigest() == expected_hash)"
   ]
  }
 ],
 "metadata": {
  "kernelspec": {
   "display_name": "Python 3",
   "language": "python",
   "name": "python3"
  },
  "language_info": {
   "codemirror_mode": {
    "name": "ipython",
    "version": 3
   },
   "file_extension": ".py",
   "mimetype": "text/x-python",
   "name": "python",
   "nbconvert_exporter": "python",
   "pygments_lexer": "ipython3",
   "version": "3.6.4"
  }
 },
 "nbformat": 4,
 "nbformat_minor": 2
}
