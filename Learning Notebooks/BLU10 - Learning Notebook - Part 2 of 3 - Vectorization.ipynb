{
 "cells": [
  {
   "cell_type": "markdown",
   "metadata": {},
   "source": [
    "# BLU10 - Learning Notebook - Part 2 of 3 - Vectorization"
   ]
  },
  {
   "cell_type": "code",
   "execution_count": 1,
   "metadata": {},
   "outputs": [],
   "source": [
    "import numpy as np\n",
    "\n",
    "from statistics import mean\n",
    "from math import nan, isnan"
   ]
  },
  {
   "cell_type": "markdown",
   "metadata": {},
   "source": [
    "# 1 Vectorization\n",
    "\n",
    "Python is a high-level language, valuing convenience more than more control over program execution and, ultimately, performance.\n",
    "\n",
    "Now, as we've seen, recommender systems deal with large amounts of data, thus emphasizing execution and performance.\n",
    "\n",
    "NumPy (and Pandas, done right) allows us to have both convenience and performance, using *vectorization*. Curious?\n",
    "\n",
    "Remember the rating matrix $R$, from the previous notebook:\n",
    "\n",
    "$$\\begin{bmatrix}1 &  & 2\\\\ 1 & 5 & \\\\  & 2 & 1\\end{bmatrix}$$\n",
    "\n",
    "Let's start by representing it as a list of lists."
   ]
  },
  {
   "cell_type": "code",
   "execution_count": 2,
   "metadata": {},
   "outputs": [
    {
     "data": {
      "text/plain": [
       "[[1, nan, 2], [1, 5, nan], [nan, 2, 1]]"
      ]
     },
     "execution_count": 2,
     "metadata": {},
     "output_type": "execute_result"
    }
   ],
   "source": [
    "R = [[1, nan, 2], [1, 5, nan], [nan, 2, 1]]\n",
    "R"
   ]
  },
  {
   "cell_type": "markdown",
   "metadata": {},
   "source": [
    "Now, we want to compute the mean rating per user."
   ]
  },
  {
   "cell_type": "code",
   "execution_count": 3,
   "metadata": {},
   "outputs": [
    {
     "data": {
      "text/plain": [
       "[1.5, 3, 1.5]"
      ]
     },
     "execution_count": 3,
     "metadata": {},
     "output_type": "execute_result"
    }
   ],
   "source": [
    "def mean_user_ratings(R):\n",
    "    return [mean([r for r in u if not isnan(r)]) for u in R]\n",
    "\n",
    "\n",
    "mean_user_ratings(R)"
   ]
  },
  {
   "cell_type": "markdown",
   "metadata": {},
   "source": [
    "In this implementation, Python iterates over the 3 rows, plus 3 elements per row, for a total of 9 cycles.\n",
    "\n",
    "Vectorization, on the other hand, uses Single Instruction Multiple Data ([SIMD](https://en.wikipedia.org/wiki/SIMD), in short) available in most modern CPUs, to:\n",
    "* Perform an operation\n",
    "* On multiple data points\n",
    "* Simultaneously (i.e., in single a cycle).\n",
    "\n",
    "Vectorization implements what is known as data parallelism, by applying the same transformation to multiple data in parallel.\n",
    "\n",
    "Again, Python gives us no control over how a program gets executed, to exploit SIMD directly.\n",
    "\n",
    "The good news is that NumPy implements vectorization for us.\n",
    "\n",
    "Features such as array methods and universal functions are used to vectorize operations and remove `for` loops."
   ]
  },
  {
   "cell_type": "markdown",
   "metadata": {},
   "source": [
    "# 2 Loading the matrix"
   ]
  },
  {
   "cell_type": "markdown",
   "metadata": {},
   "source": [
    "Since most times we deal with plain text data, we will use `genfromtxt` to load data from `ratings_matrix.csv`."
   ]
  },
  {
   "cell_type": "code",
   "execution_count": 4,
   "metadata": {},
   "outputs": [
    {
     "data": {
      "text/plain": [
       "array([[ 1., nan,  2.],\n",
       "       [ 1.,  5., nan],\n",
       "       [nan,  2.,  1.]])"
      ]
     },
     "execution_count": 4,
     "metadata": {},
     "output_type": "execute_result"
    }
   ],
   "source": [
    "R_ = np.genfromtxt('../data/interim/ratings_matrix.csv',  delimiter=',')\n",
    "R_"
   ]
  },
  {
   "cell_type": "markdown",
   "metadata": {},
   "source": [
    "Just to make sure, let's print of the attributes of the array."
   ]
  },
  {
   "cell_type": "code",
   "execution_count": 5,
   "metadata": {},
   "outputs": [
    {
     "name": "stdout",
     "output_type": "stream",
     "text": [
      "R_ is a 2-dimensional, 3 by 3 matrix, of float64 elements.\n"
     ]
    }
   ],
   "source": [
    "ndims = R_.ndim\n",
    "nrows = R_.shape[0]\n",
    "ncols = R_.shape[0] \n",
    "dtype = R_.dtype\n",
    "\n",
    "print(\"R_ is a {}-dimensional, {} by {} matrix, of {} elements.\".format(ndims, nrows, ncols, dtype))"
   ]
  },
  {
   "cell_type": "markdown",
   "metadata": {},
   "source": [
    "# 3 Indexing"
   ]
  },
  {
   "cell_type": "markdown",
   "metadata": {},
   "source": [
    "## 3.1 User vectors\n",
    "\n",
    "Sometimes, we want to select vectors of user ratings, such as $R_u = \\begin{bmatrix}r_{u, i_1} & ... & r_{u, i_n}\\end{bmatrix}$.\n",
    "\n",
    "Using the square brackets notation and the row index, we do:\n",
    "\n",
    "```\n",
    "    ┌───┬───┬───┐   \n",
    "    │ 1 │   │ 2 │ \n",
    "    ┏━━━┳━━━┳━━━┓          ┏━━━┳━━━┳━━━┓\n",
    "R = ┃ 1 ┃ 5 ┃   ┃ → R[1] = ┃ 1 ┃ 5 ┃   ┃\n",
    "    ┗━━━┻━━━┻━━━┛          ┗━━━┻━━━┻━━━┛\n",
    "    │   │ 2 │ 1 │          (view, shape=(3,))\n",
    "    └───┴───┴───┘\n",
    "```"
   ]
  },
  {
   "cell_type": "code",
   "execution_count": 6,
   "metadata": {},
   "outputs": [
    {
     "data": {
      "text/plain": [
       "array([ 1.,  5., nan])"
      ]
     },
     "execution_count": 6,
     "metadata": {},
     "output_type": "execute_result"
    }
   ],
   "source": [
    "R_[1]"
   ]
  },
  {
   "cell_type": "markdown",
   "metadata": {},
   "source": [
    "This returns a *view* of the original array, meaning that modifying it modifies the base array.\n",
    "\n",
    "We can check whether or not the resulting array is a view using the attribute `ndarray.base`."
   ]
  },
  {
   "cell_type": "code",
   "execution_count": 7,
   "metadata": {},
   "outputs": [
    {
     "data": {
      "text/plain": [
       "True"
      ]
     },
     "execution_count": 7,
     "metadata": {},
     "output_type": "execute_result"
    }
   ],
   "source": [
    "R_[1].base is R_"
   ]
  },
  {
   "cell_type": "markdown",
   "metadata": {},
   "source": [
    "However, regular indexing will return a rank-1 array, i.e. 1-dimensional, which in many cases is not desirable."
   ]
  },
  {
   "cell_type": "code",
   "execution_count": 8,
   "metadata": {},
   "outputs": [
    {
     "data": {
      "text/plain": [
       "(3,)"
      ]
     },
     "execution_count": 8,
     "metadata": {},
     "output_type": "execute_result"
    }
   ],
   "source": [
    "R_[1].shape"
   ]
  },
  {
   "cell_type": "markdown",
   "metadata": {},
   "source": [
    "If we want to return a *copy* instead of a view of original array, we need to use advanced indexing.\n",
    "\n",
    "```\n",
    "    ┌───┬───┬───┐   \n",
    "    │ 1 │   │ 2 │ \n",
    "    ┏━━━┳━━━┳━━━┓            ┏━━━┳━━━┳━━━┓\n",
    "R = ┃ 1 ┃ 5 ┃   ┃ → R[[1]] = ┃ 1 ┃ 5 ┃   ┃\n",
    "    ┗━━━┻━━━┻━━━┛            ┗━━━┻━━━┻━━━┛\n",
    "    │   │ 2 │ 1 │            (copy, shape=(1, 3))\n",
    "    └───┴───┴───┘\n",
    "```"
   ]
  },
  {
   "cell_type": "code",
   "execution_count": 9,
   "metadata": {},
   "outputs": [
    {
     "data": {
      "text/plain": [
       "array([[ 1.,  5., nan]])"
      ]
     },
     "execution_count": 9,
     "metadata": {},
     "output_type": "execute_result"
    }
   ],
   "source": [
    "R_[[1]]"
   ]
  },
  {
   "cell_type": "code",
   "execution_count": 10,
   "metadata": {},
   "outputs": [
    {
     "data": {
      "text/plain": [
       "False"
      ]
     },
     "execution_count": 10,
     "metadata": {},
     "output_type": "execute_result"
    }
   ],
   "source": [
    "R_[[1]].base is R_"
   ]
  },
  {
   "cell_type": "markdown",
   "metadata": {},
   "source": [
    "Do see any other difference?"
   ]
  },
  {
   "cell_type": "code",
   "execution_count": 11,
   "metadata": {},
   "outputs": [
    {
     "data": {
      "text/plain": [
       "(1, 3)"
      ]
     },
     "execution_count": 11,
     "metadata": {},
     "output_type": "execute_result"
    }
   ],
   "source": [
    "R_[[1]].shape"
   ]
  },
  {
   "cell_type": "markdown",
   "metadata": {},
   "source": [
    "Unless you explicit want to change the array, advanced indexing is recommended."
   ]
  },
  {
   "cell_type": "markdown",
   "metadata": {},
   "source": [
    "## 3.2 Item vectors\n",
    "\n",
    "We use square brackets with comma separated wildcard and column index.\n",
    "\n",
    "```\n",
    "    ┌───┬───┏━━━┓             ┏━━━┓\n",
    "    │ 1 │   ┃ 2 ┃             ┃ 2 ┃\n",
    "    ├───┼───┣━━━┫             ┣━━━┫\n",
    "R = │ 1 │ 5 ┃   ┃ → R[:, 2] = ┃   ┃ (view, shape=(3,))\n",
    "    ├───┼───┣━━━┫             ┣━━━┫\n",
    "    │   │ 2 ┃ 1 ┃             ┃ 1 ┃\n",
    "    └───┴───┗━━━┛             ┗━━━┛\n",
    "```"
   ]
  },
  {
   "cell_type": "code",
   "execution_count": 12,
   "metadata": {},
   "outputs": [
    {
     "data": {
      "text/plain": [
       "array([ 2., nan,  1.])"
      ]
     },
     "execution_count": 12,
     "metadata": {},
     "output_type": "execute_result"
    }
   ],
   "source": [
    "R_[:, 2]"
   ]
  },
  {
   "cell_type": "code",
   "execution_count": 13,
   "metadata": {},
   "outputs": [
    {
     "data": {
      "text/plain": [
       "True"
      ]
     },
     "execution_count": 13,
     "metadata": {},
     "output_type": "execute_result"
    }
   ],
   "source": [
    "R_[:, 0].base is R_"
   ]
  },
  {
   "cell_type": "code",
   "execution_count": 14,
   "metadata": {},
   "outputs": [
    {
     "data": {
      "text/plain": [
       "(3,)"
      ]
     },
     "execution_count": 14,
     "metadata": {},
     "output_type": "execute_result"
    }
   ],
   "source": [
    "R_[:, 0].shape"
   ]
  },
  {
   "cell_type": "markdown",
   "metadata": {},
   "source": [
    "Again, we should use fancy indexing:\n",
    "\n",
    "```\n",
    "    ┌───┬───┏━━━┓               ┏━━━┓\n",
    "    │ 1 │   ┃ 2 ┃               ┃ 2 ┃\n",
    "    ├───┼───┣━━━┫               ┣━━━┫\n",
    "R = │ 1 │ 5 ┃   ┃ → R[:, [2]] = ┃   ┃ (copy, shape=(3, 1))\n",
    "    ├───┼───┣━━━┫               ┣━━━┫\n",
    "    │   │ 2 ┃ 1 ┃               ┃ 1 ┃\n",
    "    └───┴───┗━━━┛               ┗━━━┛\n",
    "```"
   ]
  },
  {
   "cell_type": "code",
   "execution_count": 15,
   "metadata": {},
   "outputs": [
    {
     "data": {
      "text/plain": [
       "array([[ 2.],\n",
       "       [nan],\n",
       "       [ 1.]])"
      ]
     },
     "execution_count": 15,
     "metadata": {},
     "output_type": "execute_result"
    }
   ],
   "source": [
    "R_[:, [2]]"
   ]
  },
  {
   "cell_type": "code",
   "execution_count": 16,
   "metadata": {},
   "outputs": [
    {
     "data": {
      "text/plain": [
       "False"
      ]
     },
     "execution_count": 16,
     "metadata": {},
     "output_type": "execute_result"
    }
   ],
   "source": [
    "R_[:, [2]].base is R_"
   ]
  },
  {
   "cell_type": "code",
   "execution_count": 17,
   "metadata": {},
   "outputs": [
    {
     "data": {
      "text/plain": [
       "(3, 1)"
      ]
     },
     "execution_count": 17,
     "metadata": {},
     "output_type": "execute_result"
    }
   ],
   "source": [
    "R_[:, [2]].shape"
   ]
  },
  {
   "cell_type": "markdown",
   "metadata": {},
   "source": [
    "## 3.3 Ratings\n",
    "\n",
    "To select individual elements of our ratings matrix, we combine the notations above, so that:\n",
    "\n",
    "```\n",
    "    ┏━━━┓───┬───┐             ┏━━━┓\n",
    "    ┃ 1 ┃   │ 2 │ → R[0, 0] = ┃ 1 ┃ (scalar)\n",
    "    ┗━━━┛───┼───┤             ┗━━━┛\n",
    "R = │ 1 │ 5 │   │  \n",
    "    ├───┼───┼───┤\n",
    "    │   │ 2 │ 1 │\n",
    "    └───┴───┴───┘\n",
    "```\n",
    "\n",
    "When selecting individual elements, there are no advantages in using fancy indexing."
   ]
  },
  {
   "cell_type": "code",
   "execution_count": 18,
   "metadata": {},
   "outputs": [
    {
     "data": {
      "text/plain": [
       "1.0"
      ]
     },
     "execution_count": 18,
     "metadata": {},
     "output_type": "execute_result"
    }
   ],
   "source": [
    "R_[0, 0]"
   ]
  },
  {
   "cell_type": "markdown",
   "metadata": {},
   "source": [
    "## 3.4 Boolean masks\n",
    "\n",
    "We use boolean arrays to select specific locations according to a condition.\n",
    "\n",
    "A boolean mask is an array of boolean values.\n",
    "\n",
    "```\n",
    "                  ┌───┬───┬───┐\n",
    "                  │ 0 │ 1 │ 0 │\n",
    "                  ├───┼───┼───┤                    \n",
    "M = np.isnan(R) = │ 0 │ 0 │ 1 │ \n",
    "                  ├───┼───┼───┤                             \n",
    "                  │ 1 │ 0 │ 0 │                   \n",
    "                  └───┴───┴───┘  \n",
    "```\n",
    "That can be used\n",
    "\n",
    "```\n",
    "    ┌───┬───┬───┐\n",
    "    │ 1 │   │ 2 │\n",
    "    ├───┼───┼───┤          ┌───┬───┬───┐\n",
    "R = │ 1 │ 5 │   │ → R[M] = │   │   │   │\n",
    "    ├───┼───┼───┤          └───┴───┴───┘       \n",
    "    │   │ 2 │ 1 │                   \n",
    "    └───┴───┴───┘                   \n",
    "```"
   ]
  },
  {
   "cell_type": "code",
   "execution_count": 19,
   "metadata": {},
   "outputs": [
    {
     "data": {
      "text/plain": [
       "array([[False,  True, False],\n",
       "       [False, False,  True],\n",
       "       [ True, False, False]])"
      ]
     },
     "execution_count": 19,
     "metadata": {},
     "output_type": "execute_result"
    }
   ],
   "source": [
    "M = np.isnan(R_)\n",
    "M"
   ]
  },
  {
   "cell_type": "code",
   "execution_count": 20,
   "metadata": {},
   "outputs": [
    {
     "data": {
      "text/plain": [
       "array([nan, nan, nan])"
      ]
     },
     "execution_count": 20,
     "metadata": {},
     "output_type": "execute_result"
    }
   ],
   "source": [
    "R_[M]"
   ]
  },
  {
   "cell_type": "markdown",
   "metadata": {},
   "source": [
    "## 3.5 Reshufling vectors\n",
    "\n",
    "We use these indexing techniques to change the order of the elements of an array.\n",
    "\n",
    "```\n",
    "    ┏━━━┓                  ┏━━━┓\n",
    "    ┃ 0 ┃                  ┃ 1 ┃\n",
    "    ┣━━━┫                  ┣━━━┫\n",
    "v = ┃ 1 ┃ → v[[1, 2, 0]] = ┃ 2 ┃\n",
    "    ┣━━━┫                  ┣━━━┫\n",
    "    ┃ 2 ┃                  ┃ 0 ┃\n",
    "    ┗━━━┛                  ┗━━━┛\n",
    "```\n",
    "\n",
    "Consider the array `v`. representing a column vector."
   ]
  },
  {
   "cell_type": "code",
   "execution_count": 21,
   "metadata": {},
   "outputs": [
    {
     "data": {
      "text/plain": [
       "array([[0],\n",
       "       [1],\n",
       "       [2]])"
      ]
     },
     "execution_count": 21,
     "metadata": {},
     "output_type": "execute_result"
    }
   ],
   "source": [
    "v = np.array([[0], [1], [2]])\n",
    "v"
   ]
  },
  {
   "cell_type": "markdown",
   "metadata": {},
   "source": [
    "We pass an array of indexes to change positions, in a vectorized way."
   ]
  },
  {
   "cell_type": "code",
   "execution_count": 22,
   "metadata": {},
   "outputs": [
    {
     "data": {
      "text/plain": [
       "array([[1],\n",
       "       [2],\n",
       "       [0]])"
      ]
     },
     "execution_count": 22,
     "metadata": {},
     "output_type": "execute_result"
    }
   ],
   "source": [
    "v[[1, 2, 0]]"
   ]
  },
  {
   "cell_type": "markdown",
   "metadata": {},
   "source": [
    "# 4 Array methods\n",
    "\n",
    "NumPy arrays have many methods ([docs](https://docs.scipy.org/doc/numpy-1.13.0/reference/arrays.ndarray.html)), which operate on or with the array and typically return a new array.\n",
    "\n",
    "Such methods can be grouped accorting to their purpose:\n",
    "* Array conversion\n",
    "* Shape manipulation\n",
    "* Item selection and manipulation\n",
    "* Calculation.\n",
    "\n",
    "Some common operations we can perform along either axis of a `ndarray` are:\n",
    "* [argmin](https://docs.scipy.org/doc/numpy/reference/generated/numpy.ndarray.argmin.html)\n",
    "* [min](https://docs.scipy.org/doc/numpy/reference/generated/numpy.ndarray.min.html)\n",
    "* [max](https://docs.scipy.org/doc/numpy/reference/generated/numpy.ndarray.max.html)\n",
    "* [round](https://docs.scipy.org/doc/numpy/reference/generated/numpy.ndarray.round.html)\n",
    "* [sum](https://docs.scipy.org/doc/numpy/reference/generated/numpy.ndarray.sum.html)\n",
    "* [cumsum](https://docs.scipy.org/doc/numpy/reference/generated/numpy.ndarray.cumsum.html)\n",
    "* [mean](https://docs.scipy.org/doc/numpy/reference/generated/numpy.ndarray.mean.html)\n",
    "* [var](https://docs.scipy.org/doc/numpy/reference/generated/numpy.ndarray.var.html)\n",
    "* [std](https://docs.scipy.org/doc/numpy/reference/generated/numpy.ndarray.std.html)\n",
    "* [prod](https://docs.scipy.org/doc/numpy/reference/generated/numpy.ndarray.prod.html)\n",
    "* [cumprod](https://docs.scipy.org/doc/numpy/reference/generated/numpy.ndarray.cumprod.html)\n",
    "* [all](https://docs.scipy.org/doc/numpy/reference/generated/numpy.ndarray.all.html)\n",
    "* [any](https://docs.scipy.org/doc/numpy/reference/generated/numpy.ndarray.any.html).\n",
    "\n",
    "We will illustrate a few methods, particularly relevant to our course.\n",
    "\n",
    "## 4.1 Reshaping\n",
    "\n",
    "We can change the shape of the array using `ndarray.reshape`, given the new shape is compatible with the original one.\n",
    "\n",
    "```\n",
    "    ┌───┬───┬───┐\n",
    "    │ 1 │   │ 2 │\n",
    "    ├───┼───┼───┤                     ┌───┬───┬───┬───┬───┬───┬───┬───┬───┐\n",
    "R = │ 1 │ 5 │   │ → R.reshape(1, 9) = │ 1 │   │ 2 │ 1 │ 5 │   │   │ 2 │ 1 │\n",
    "    ├───┼───┼───┤                     └───┴───┴───┴───┴───┴───┴───┴───┴───┘            \n",
    "    │   │ 2 │ 1 │                   \n",
    "    └───┴───┴───┘                   \n",
    "```\n",
    "\n",
    "We use `reshape` throughout the code to enforce a given shape."
   ]
  },
  {
   "cell_type": "code",
   "execution_count": 23,
   "metadata": {},
   "outputs": [
    {
     "data": {
      "text/plain": [
       "array([[ 1., nan,  2.,  1.,  5., nan, nan,  2.,  1.]])"
      ]
     },
     "execution_count": 23,
     "metadata": {},
     "output_type": "execute_result"
    }
   ],
   "source": [
    "R_.reshape(1, 9)"
   ]
  },
  {
   "cell_type": "markdown",
   "metadata": {},
   "source": [
    "## 4.2 Transposing\n",
    "\n",
    "Other useful operation is transposing a matrix as in linear algebra.\n",
    "\n",
    "```\n",
    "    ┌───┬───┬───┐                   ┌───┬───┬───┐\n",
    "    │ 1 │   │ 2 │                   │ 1 │ 1 │   │\n",
    "    ├───┼───┼───┤                   ├───┼───┼───┤\n",
    "R = │ 1 │ 5 │   │ → R.transpose() = │   │ 5 │ 2 │\n",
    "    ├───┼───┼───┤                   ├───┼───┼───┤                    \n",
    "    │   │ 2 │ 1 │                   │ 2 │   │ 1 │\n",
    "    └───┴───┴───┘                   └───┴───┴───┘\n",
    "```"
   ]
  },
  {
   "cell_type": "code",
   "execution_count": 24,
   "metadata": {},
   "outputs": [
    {
     "data": {
      "text/plain": [
       "array([[ 1.,  1., nan],\n",
       "       [nan,  5.,  2.],\n",
       "       [ 2., nan,  1.]])"
      ]
     },
     "execution_count": 24,
     "metadata": {},
     "output_type": "execute_result"
    }
   ],
   "source": [
    "R_.transpose()"
   ]
  },
  {
   "cell_type": "markdown",
   "metadata": {},
   "source": [
    "## 4.3 Argmax\n",
    "\n",
    "Returns the indices of the maximum values along an axis (0 for columns, 1 for rows).\n",
    "\n",
    "\n",
    "```\n",
    "    ┌───┬───┬───┐\n",
    "    │ 1 │   │ 2 │\n",
    "    ├───┼───┼───┤                             ┌───┬───┬───┐\n",
    "R = │ 1 │ 5 │   │ → np.nanargmax(R, axis=1) = │ 2 │ 1 │ 1 │\n",
    "    ├───┼───┼───┤                             └───┴───┴───┘            \n",
    "    │   │ 2 │ 1 │                   \n",
    "    └───┴───┴───┘                   \n",
    "```\n",
    "\n",
    "There is, however, a problem: `argmax` returns `np.NaN` values as maximum values."
   ]
  },
  {
   "cell_type": "code",
   "execution_count": 25,
   "metadata": {},
   "outputs": [
    {
     "data": {
      "text/plain": [
       "array([1, 2, 0])"
      ]
     },
     "execution_count": 25,
     "metadata": {},
     "output_type": "execute_result"
    }
   ],
   "source": [
    "R_.argmax(axis=1)"
   ]
  },
  {
   "cell_type": "markdown",
   "metadata": {},
   "source": [
    "Fortunately, NumPy provides a `nanargmax` method to deal with such cases."
   ]
  },
  {
   "cell_type": "code",
   "execution_count": 26,
   "metadata": {},
   "outputs": [
    {
     "data": {
      "text/plain": [
       "array([2, 1, 1])"
      ]
     },
     "execution_count": 26,
     "metadata": {},
     "output_type": "execute_result"
    }
   ],
   "source": [
    "np.nanargmax(R_, axis=1)"
   ]
  },
  {
   "cell_type": "markdown",
   "metadata": {},
   "source": [
    "## 4.4 Argsort\n",
    "\n",
    "Returns the indices that would sort an array along an axis.\n",
    "\n",
    "Unfortunately, NumPy doesn't provide (to our knowledge) a method for missing values.\n",
    "\n",
    "Also, `argsort` doesn't provide descending order. So we have to improvise!\n",
    "\n",
    "```\n",
    "    ┌───┬───┬───┐                        ┌───┬───┬───┐\n",
    "    │ 1 │   │ 2 │                        │ 1 │ 0 │ 2 │\n",
    "    ├───┼───┼───┤                        ├───┼───┼───┤\n",
    "R = │ 1 │ 5 │   │ → R[np.isnan(R)] = 0 → │ 1 │ 5 │ 0 │\n",
    "    ├───┼───┼───┤                        ├───┼───┼───┤            \n",
    "    │   │ 2 │ 1 │                        │ 0 │ 2 │ 1 │\n",
    "    └───┴───┴───┘                        └───┴───┴───┘ \n",
    "    \n",
    "    ┌───┬───┬───┐                        ┌───┬───┬───┐\n",
    "    │ 1 │ 0 │ 2 │                        │-1 │ 0 │-2 │\n",
    "    ├───┼───┼───┤                        ├───┼───┼───┤\n",
    "R = │ 1 │ 5 │ 0 │ → np.negative(R)     = │-1 │-5 │ 0 │\n",
    "    ├───┼───┼───┤                        ├───┼───┼───┤            \n",
    "    │ 0 │ 2 │ 1 │                        │ 0 │-2 │-1 │\n",
    "    └───┴───┴───┘                        └───┴───┴───┘\n",
    "\n",
    "    ┌───┬───┬───┐                        ┌───┬───┬───┐\n",
    "    │-1 │ 0 │-2 │                        │ 2 │ 0 │ 1 │\n",
    "    ├───┼───┼───┤                        ├───┼───┼───┤\n",
    "R = │-1 │-5 │ 0 │ → R.argsort(axis=1)  = │ 1 │ 0 │ 2 │\n",
    "    ├───┼───┼───┤                        ├───┼───┼───┤            \n",
    "    │ 0 │-2 │-1 │                        │ 1 │ 2 │ 0 │\n",
    "    └───┴───┴───┘                        └───┴───┴───┘ \n",
    "```"
   ]
  },
  {
   "cell_type": "code",
   "execution_count": 27,
   "metadata": {},
   "outputs": [
    {
     "data": {
      "text/plain": [
       "array([[1., 0., 2.],\n",
       "       [1., 5., 0.],\n",
       "       [0., 2., 1.]])"
      ]
     },
     "execution_count": 27,
     "metadata": {},
     "output_type": "execute_result"
    }
   ],
   "source": [
    "R_zeros = R_.copy()\n",
    "R_zeros[np.isnan(R_)] = 0\n",
    "R_zeros"
   ]
  },
  {
   "cell_type": "code",
   "execution_count": 28,
   "metadata": {},
   "outputs": [
    {
     "data": {
      "text/plain": [
       "array([[-1., -0., -2.],\n",
       "       [-1., -5., -0.],\n",
       "       [-0., -2., -1.]])"
      ]
     },
     "execution_count": 28,
     "metadata": {},
     "output_type": "execute_result"
    }
   ],
   "source": [
    "R_zeros = np.negative(R_zeros)\n",
    "R_zeros"
   ]
  },
  {
   "cell_type": "code",
   "execution_count": 29,
   "metadata": {},
   "outputs": [
    {
     "data": {
      "text/plain": [
       "array([[2, 0, 1],\n",
       "       [1, 0, 2],\n",
       "       [1, 2, 0]])"
      ]
     },
     "execution_count": 29,
     "metadata": {},
     "output_type": "execute_result"
    }
   ],
   "source": [
    "R_zeros.argsort(axis=1)"
   ]
  },
  {
   "cell_type": "markdown",
   "metadata": {},
   "source": [
    "## 4.5 Mean\n",
    "\n",
    "Finally, we compute the mean rating per user with vectorization.\n",
    "\n",
    "However, and this is becoming a common theme, \n",
    "\n",
    "The `mean` method doesn't deal with missing values, so we use `np.nanmean`.\n",
    "\n",
    "```\n",
    "    ┌───┬───┬───┐                                          ┌───┐\n",
    "    │ 1 │   │ 2 │                                          │1.5│\n",
    "    ├───┼───┼───┤                                          ├───┤\n",
    "R = │ 1 │ 5 │   │ → np.nanmean(R, axis=1, keepdims=True) = │ 3 │\n",
    "    ├───┼───┼───┤                                          ├───┤      \n",
    "    │   │ 2 │ 1 │                                          │1.5│\n",
    "    └───┴───┴───┘                                          └───┘\n",
    "```"
   ]
  },
  {
   "cell_type": "code",
   "execution_count": 30,
   "metadata": {},
   "outputs": [
    {
     "data": {
      "text/plain": [
       "array([nan, nan, nan])"
      ]
     },
     "execution_count": 30,
     "metadata": {},
     "output_type": "execute_result"
    }
   ],
   "source": [
    "R_.mean(axis=1)"
   ]
  },
  {
   "cell_type": "code",
   "execution_count": 31,
   "metadata": {},
   "outputs": [
    {
     "data": {
      "text/plain": [
       "array([[1.5],\n",
       "       [3. ],\n",
       "       [1.5]])"
      ]
     },
     "execution_count": 31,
     "metadata": {},
     "output_type": "execute_result"
    }
   ],
   "source": [
    "np.nanmean(R_, axis=1, keepdims=True)"
   ]
  },
  {
   "cell_type": "markdown",
   "metadata": {},
   "source": [
    "Not only is vectorization performant, but, thanks to NumPy, it's also expressive.\n",
    "\n",
    "Many other methods behave just like mean, `min`, `max`, `sum`, `var`, `std`, among others."
   ]
  },
  {
   "cell_type": "markdown",
   "metadata": {},
   "source": [
    "# 5 Universal functions\n",
    "\n",
    "Additionally to the array methods discussed above, NumPY provides many [universal functions](https://docs.scipy.org/doc/numpy/reference/ufuncs.html#available-ufuncs).\n",
    "\n",
    "We group the methods, among others, as:\n",
    "* Math functions\n",
    "* Trigonometric functions\n",
    "* Comparison functions.\n",
    "\n",
    "Many of these, are implemented in compiled C code, for performance.\n",
    "\n",
    "Because of vectorization, these functions are applied, in parallel, to multiple data at once.\n",
    "\n",
    "Universal funtions operate element-by-element and include (some them we already know):\n",
    "* [add](https://docs.scipy.org/doc/numpy/reference/generated/numpy.add.html)\n",
    "* [subtract](https://docs.scipy.org/doc/numpy/reference/generated/numpy.subtract.html)\n",
    "* [multiply](https://docs.scipy.org/doc/numpy/reference/generated/numpy.multiply.html)\n",
    "* [divide](https://docs.scipy.org/doc/numpy/reference/generated/numpy.divide.html)\n",
    "* [negative](https://docs.scipy.org/doc/numpy/reference/generated/numpy.negative.html)\n",
    "* [positive](https://docs.scipy.org/doc/numpy/reference/generated/numpy.positive.html)\n",
    "* [power](https://docs.scipy.org/doc/numpy/reference/generated/numpy.power.html)\n",
    "* [exp](https://docs.scipy.org/doc/numpy/reference/generated/numpy.exp.html)\n",
    "* [log](https://docs.scipy.org/doc/numpy/reference/generated/numpy.log.html)\n",
    "* [sin](https://docs.scipy.org/doc/numpy/reference/generated/numpy.sin.html)\n",
    "* [cos](https://docs.scipy.org/doc/numpy/reference/generated/numpy.cos.html)\n",
    "* [greater](https://docs.scipy.org/doc/numpy/reference/generated/numpy.greater.html), [greater_equal](https://docs.scipy.org/doc/numpy/reference/generated/numpy.greater_equal.html)\n",
    "* [less](https://docs.scipy.org/doc/numpy/reference/generated/numpy.less.html), [less_equal](https://docs.scipy.org/doc/numpy/reference/generated/numpy.less_equal.html)\n",
    "* [equal](https://docs.scipy.org/doc/numpy/reference/generated/numpy.equal.html)\n",
    "* [not_equal](https://docs.scipy.org/doc/numpy/reference/generated/numpy.not_equal.html)\n",
    "* [maximum](https://docs.scipy.org/doc/numpy/reference/generated/numpy.maximum.html)\n",
    "* [minimum](https://docs.scipy.org/doc/numpy/reference/generated/numpy.minimum.html).\n",
    "\n",
    "We exemplify some of these functions. Let's start by creating two different matrices.\n",
    "\n",
    "```\n",
    "    ┌───┬───┬───┐       ┌───┬───┬───┐\n",
    "    │ 3 │ 1 │ 2 │       │ 5 │ 5 │ 2 │ \n",
    "    ├───┼───┼───┤       ├───┼───┼───┤\n",
    "A = │ 1 │ 5 │ 4 │   B = │ 3 │ 3 │ 3 │\n",
    "    ├───┼───┼───┤       ├───┼───┼───┤   \n",
    "    │ 4 │ 4 │ 1 │       │ 2 │ 5 │ 4 │\n",
    "    └───┴───┴───┘       └───┴───┴───┘\n",
    "```"
   ]
  },
  {
   "cell_type": "code",
   "execution_count": 32,
   "metadata": {},
   "outputs": [],
   "source": [
    "A = np.array([[3, 1, 2], [1, 5, 4], [4, 4, 1]])\n",
    "B = np.array([[5, 5, 2], [3, 3, 3], [2, 5, 4]])"
   ]
  },
  {
   "cell_type": "markdown",
   "metadata": {},
   "source": [
    "## 5.1 Add\n",
    "\n",
    "We use `add` to add arrays element-wise.\n",
    "\n",
    "```\n",
    "┌───┬───┬───┐   ┌───┬───┬───┐   ┌───────┬───────┬───────┐   ┌───┬───┬───┐\n",
    "│ 3 │ 1 │ 2 │   │ 5 │ 5 │ 2 │   │ 3 + 5 │ 1 + 5 │ 2 + 2 │   │ 8 │ 6 │ 4 │ \n",
    "├───┼───┼───┤   ├───┼───┼───┤   ├───────┼───────┼───────┤   ├───┼───┼───┤\n",
    "│ 1 │ 5 │ 4 │ + │ 3 │ 3 │ 3 │ → │ 1 + 3 │ 5 + 3 │ 4 + 3 │ = │ 4 │ 8 │ 7 │  \n",
    "├───┼───┼───┤   ├───┼───┼───┤   ├───────┼───────┼───────┤   ├───┼───┼───┤   \n",
    "│ 4 │ 4 │ 1 │   │ 2 │ 5 │ 4 │   │ 4 + 2 │ 4 + 5 │ 1 + 4 │   │ 6 │ 9 │ 5 │\n",
    "└───┴───┴───┘   └───┴───┴───┘   └───────┴───────┴───────┘   └───┴───┴───┘\n",
    "```"
   ]
  },
  {
   "cell_type": "code",
   "execution_count": 33,
   "metadata": {},
   "outputs": [
    {
     "data": {
      "text/plain": [
       "array([[8, 6, 4],\n",
       "       [4, 8, 7],\n",
       "       [6, 9, 5]])"
      ]
     },
     "execution_count": 33,
     "metadata": {},
     "output_type": "execute_result"
    }
   ],
   "source": [
    "np.add(A, B)"
   ]
  },
  {
   "cell_type": "markdown",
   "metadata": {},
   "source": [
    "Alternatively, you can use math operators, as you would normally do (`add` is called internally)."
   ]
  },
  {
   "cell_type": "code",
   "execution_count": 34,
   "metadata": {},
   "outputs": [
    {
     "data": {
      "text/plain": [
       "array([[8, 6, 4],\n",
       "       [4, 8, 7],\n",
       "       [6, 9, 5]])"
      ]
     },
     "execution_count": 34,
     "metadata": {},
     "output_type": "execute_result"
    }
   ],
   "source": [
    "A + B"
   ]
  },
  {
   "cell_type": "markdown",
   "metadata": {},
   "source": [
    "The downside of using math operators is that you need to make sure `A` and `B` are `ndarrays`.\n",
    "\n",
    "If you use `add` it will convert any input array-like object into a `ndarray` prior to performing the operation.\n",
    "\n",
    "You can apply the same reasoning to any other math function, as subtract, multiply or divide.\n",
    "\n",
    "## 5.2 Log\n",
    "\n",
    "We use `log` to apply the natural algorithm, element-wise.\n",
    "\n",
    "```\n",
    "    ┌───┬───┬───┐               ┌────────┬────────┬────────┐\n",
    "    │ 3 │ 1 │ 2 │               │ log(3) │ log(1) │ log(2) │\n",
    "    ├───┼───┼───┤               ├────────┼────────┼────────┤\n",
    "A = │ 1 │ 5 │ 4 │ → np.log(A) = │ log(1) │ log(5) │ log(4) │\n",
    "    ├───┼───┼───┤               ├────────┼────────┼────────┤            \n",
    "    │ 4 │ 4 │ 1 │               │ log(4) │ log(4) │ log(1) │\n",
    "    └───┴───┴───┘               └────────┴────────┴────────┘\n",
    "```"
   ]
  },
  {
   "cell_type": "code",
   "execution_count": 35,
   "metadata": {},
   "outputs": [
    {
     "data": {
      "text/plain": [
       "array([[1.09861229, 0.        , 0.69314718],\n",
       "       [0.        , 1.60943791, 1.38629436],\n",
       "       [1.38629436, 1.38629436, 0.        ]])"
      ]
     },
     "execution_count": 35,
     "metadata": {},
     "output_type": "execute_result"
    }
   ],
   "source": [
    "np.log(A)"
   ]
  },
  {
   "cell_type": "markdown",
   "metadata": {},
   "source": [
    "Important functions operate like log, like `exp`, `sin` and `cos`, among others.\n",
    "\n",
    "## 5.3 Greater\n",
    "\n",
    "Compares two arrays element-wise.\n",
    "\n",
    "```\n",
    "┌───┬───┬───┐   ┌───┬───┬───┐   ┌───────┬───────┬───────┐   ┌───┬───┬───┐\n",
    "│ 3 │ 1 │ 2 │   │ 5 │ 5 │ 2 │   │ 3 > 5 │ 1 > 5 │ 2 > 2 │   │ 0 │ 0 │ 0 │ \n",
    "├───┼───┼───┤   ├───┼───┼───┤   ├───────┼───────┼───────┤   ├───┼───┼───┤\n",
    "│ 1 │ 5 │ 4 │ > │ 3 │ 3 │ 3 │ → │ 1 > 3 │ 5 > 3 │ 4 > 3 │ = │ 0 │ 1 │ 1 │  \n",
    "├───┼───┼───┤   ├───┼───┼───┤   ├───────┼───────┼───────┤   ├───┼───┼───┤   \n",
    "│ 4 │ 4 │ 1 │   │ 2 │ 5 │ 4 │   │ 4 > 2 │ 4 > 5 │ 1 > 4 │   │ 1 │ 0 │ 0 │\n",
    "└───┴───┴───┘   └───┴───┴───┘   └───────┴───────┴───────┘   └───┴───┴───┘\n",
    "```"
   ]
  },
  {
   "cell_type": "code",
   "execution_count": 36,
   "metadata": {},
   "outputs": [
    {
     "data": {
      "text/plain": [
       "array([[False, False, False],\n",
       "       [False,  True,  True],\n",
       "       [ True, False, False]])"
      ]
     },
     "execution_count": 36,
     "metadata": {},
     "output_type": "execute_result"
    }
   ],
   "source": [
    "np.greater(A, B)"
   ]
  },
  {
   "cell_type": "code",
   "execution_count": 37,
   "metadata": {},
   "outputs": [
    {
     "data": {
      "text/plain": [
       "array([[False, False, False],\n",
       "       [False,  True,  True],\n",
       "       [ True, False, False]])"
      ]
     },
     "execution_count": 37,
     "metadata": {},
     "output_type": "execute_result"
    }
   ],
   "source": [
    "A > B"
   ]
  },
  {
   "cell_type": "markdown",
   "metadata": {},
   "source": [
    "## 5.4 Maximum\n",
    "\n",
    "Returns the maximum of two arrays, element-wise.\n",
    "\n",
    "```\n",
    "               ┌───────────┬───────────┬───────────┐   ┌───┬───┬───┐\n",
    "               │ max(3, 5) │ max(1, 5) │ max(2, 2) │   │ 5 │ 5 │ 2 │ \n",
    "               ├───────────┼───────────┼───────────┤   ├───┼───┼───┤\n",
    "np.max(A, B) → │ max(1, 3) │ max(5, 3) │ max(4, 3) │ = │ 3 │ 5 │ 4 │  \n",
    "               ├───────────┼───────────┼───────────┤   ├───┼───┼───┤   \n",
    "               │ max(4, 2) │ max(4, 5) │ max(1, 4) │   │ 4 │ 5 │ 4 │\n",
    "               └───────────┴───────────┴───────────┘   └───┴───┴───┘\n",
    "```"
   ]
  },
  {
   "cell_type": "code",
   "execution_count": 38,
   "metadata": {},
   "outputs": [
    {
     "data": {
      "text/plain": [
       "array([[5, 5, 2],\n",
       "       [3, 5, 4],\n",
       "       [4, 5, 4]])"
      ]
     },
     "execution_count": 38,
     "metadata": {},
     "output_type": "execute_result"
    }
   ],
   "source": [
    "np.maximum(A, B)"
   ]
  },
  {
   "cell_type": "markdown",
   "metadata": {},
   "source": [
    "# 6 Broadcasting\n",
    "\n",
    "All this convient functionality operates on a element-by-element basis. \n",
    "\n",
    "What about operations on arrays with different sizes?\n",
    "\n",
    "## 6.1 Columns\n",
    "\n",
    "We think of boardcasting as streching an array, so that it matches the dimensions of another.\n",
    "\n",
    "In two dimensions, this means duplicating rows or columns, so that the dimensions of both arrays match.\n",
    "\n",
    "```\n",
    "┌───┐   ┌───┬───┬───┐   ┌───┬───┬───┐   ┌───┬───┬───┐\n",
    "│ 1 │   │ 1 │ 2 │ 3 │   │ 1 │ 1 │ 1 │   │ 1 │ 2 │ 3 │ \n",
    "├───┤   ├───┼───┼───┤   ├───┼───┼───┤   ├───┼───┼───┤\n",
    "│ 2 │ + │ 4 │ 5 │ 6 │ → │ 2 │ 2 │ 2 │ + │ 4 │ 5 │ 6 │   \n",
    "├───┤   ├───┼───┼───┤   ├───┼───┼───┤   ├───┼───┼───┤   \n",
    "│ 3 │   │ 7 │ 8 │ 9 │   │ 3 │ 3 │ 3 │   │ 7 │ 8 │ 9 │\n",
    "└───┘   └───┴───┴───┘   └───┴───┴───┘   └───┴───┴───┘\n",
    "(3, 1)      (3, 3)          (3, 3)          (3, 3)\n",
    "```\n",
    "\n",
    "In this case, we duplicate columns, so that both matrices become the same shape.\n",
    "\n",
    "If the number of columns of both matrices aren't multiples, an error will be thrown."
   ]
  },
  {
   "cell_type": "code",
   "execution_count": 39,
   "metadata": {},
   "outputs": [
    {
     "data": {
      "text/plain": [
       "array([[ 2,  3,  4],\n",
       "       [ 6,  7,  8],\n",
       "       [10, 11, 12]])"
      ]
     },
     "execution_count": 39,
     "metadata": {},
     "output_type": "execute_result"
    }
   ],
   "source": [
    "A = np.arange(1, 4).reshape(3, 1)\n",
    "B = np.arange(1, 10).reshape(3, 3)\n",
    "\n",
    "np.add(A, B)"
   ]
  },
  {
   "cell_type": "markdown",
   "metadata": {},
   "source": [
    "## 6.2 Rows\n",
    "\n",
    "We can do the same to the rows, given that the number of rows in each matrix are multiples.\n",
    "\n",
    "```\n",
    "                ┌───┬───┬───┐   ┌───┬───┬───┐   ┌───┬───┬───┐\n",
    "                │ 1 │ 2 │ 3 │   │ 1 │ 2 │ 3 │   │ 1 │ 2 │ 3 │ \n",
    "┌───┬───┬───┐   ├───┼───┼───┤   ├───┼───┼───┤   ├───┼───┼───┤\n",
    "│ 1 │ 2 │ 3 │ + │ 4 │ 5 │ 6 │ → │ 1 │ 2 │ 3 │ + │ 4 │ 5 │ 6 │   \n",
    "└───┴───┴───┘   ├───┼───┼───┤   ├───┼───┼───┤   ├───┼───┼───┤   \n",
    "    (1, 3)      │ 7 │ 8 │ 9 │   │ 1 │ 2 │ 3 │   │ 7 │ 8 │ 9 │\n",
    "                └───┴───┴───┘   └───┴───┴───┘   └───┴───┴───┘\n",
    "                    (3, 3)          (3, 3)          (3, 3)\n",
    "```"
   ]
  },
  {
   "cell_type": "code",
   "execution_count": 40,
   "metadata": {},
   "outputs": [
    {
     "data": {
      "text/plain": [
       "array([[ 2,  4,  6],\n",
       "       [ 5,  7,  9],\n",
       "       [ 8, 10, 12]])"
      ]
     },
     "execution_count": 40,
     "metadata": {},
     "output_type": "execute_result"
    }
   ],
   "source": [
    "A = A.reshape(1, 3)\n",
    "\n",
    "np.add(A, B)"
   ]
  }
 ],
 "metadata": {
  "kernelspec": {
   "display_name": "Python 3",
   "language": "python",
   "name": "python3"
  },
  "language_info": {
   "codemirror_mode": {
    "name": "ipython",
    "version": 3
   },
   "file_extension": ".py",
   "mimetype": "text/x-python",
   "name": "python",
   "nbconvert_exporter": "python",
   "pygments_lexer": "ipython3",
   "version": "3.6.5"
  }
 },
 "nbformat": 4,
 "nbformat_minor": 2
}
