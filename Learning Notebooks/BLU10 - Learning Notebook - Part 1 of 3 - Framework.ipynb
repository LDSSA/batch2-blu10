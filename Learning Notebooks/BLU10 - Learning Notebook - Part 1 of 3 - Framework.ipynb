{
 "cells": [
  {
   "cell_type": "markdown",
   "metadata": {},
   "source": [
    "# BLU10 - Learning Notebook - Part 1 of 3 - Framework"
   ]
  },
  {
   "cell_type": "code",
   "execution_count": 1,
   "metadata": {},
   "outputs": [],
   "source": [
    "import numpy as np"
   ]
  },
  {
   "cell_type": "markdown",
   "metadata": {},
   "source": [
    "# 1 Framework\n",
    "\n",
    "Recommendation Systems (RS) are software systems that recommend items to users, that they might like.\n",
    "\n",
    "We start by learning the main components of an RS.\n",
    "\n",
    "![Recommender Sytems Framework](../media/recommender_systems_framework.png)\n",
    "\n",
    "*Fig.1 - RS framework with a community, plus the basic and extended models.*\n",
    "\n",
    "We refer back to this framework frequently throughout the specialization, but for now, let's drill down into each component.\n",
    "\n",
    "## 1.1 Users\n",
    "\n",
    "The *consumers* or people, denoted by $U = \\{u_0, u_1, ..., u_m\\}$, where $m \\in \\mathbb{N_0}$ and cardinality $\\left\\vert{U}\\right\\vert = m$.\n",
    "\n",
    "We reserve the indexing letters $u$ and $v$ to denote generic individual users.\n",
    "\n",
    "## 1.2 Items\n",
    "\n",
    "The *products* or things, a set $I = \\{i_0, i_1, ..., i_n\\}$, with $n \\in \\mathbb{N_0}$ and number of elements $\\left\\vert{I}\\right\\vert = n$. \n",
    "\n",
    "The indexing letters for letters for items are $i$, $j$ and $l$.\n",
    "\n",
    "## 1.3 Community\n",
    "\n",
    "Users and items together form a shared space in which user opinions make sense.\n",
    "\n",
    "The space of all possible ($u$, $i$) pairs is given by $U \\times I = \\{(u_0, i_0), (u_0, i_1), ..., (u_0, i_n), ..., (u_m, i_n)\\}$.\n",
    "\n",
    "The resulting set $U \\times I$ contains $\\left\\vert{U}\\right\\vert * \\left\\vert{I}\\right\\vert = m * n$ possible combinations.\n",
    "\n",
    "## 1.4 Ratings\n",
    "\n",
    "The *transactions* or opinions, provided by the users about the items.\n",
    "\n",
    "We write the set $R = \\{r_{u_0, i_0}, ..., r_{u_m, i_n}\\}$, where each rating $r_{u, i}$ corresponds to a user-item pair $(u, i) \\in U \\times I$.\n",
    "\n",
    "We use $R'$ for the set of all recorded ratings, such as:\n",
    "\n",
    "* Any user $u \\in U$ can make no more than one rating $r_{u, i}$ for a particular item $i \\in I$.\n",
    "* Any user $u \\in U$ is free to rate, or not, any number of items $i \\in I$, including none.\n",
    "\n",
    "Formally, the set of stored ratings $R' \\subseteq R$. (The set of stored ratings $R'$ is a subset of the set containing all possible ratings $R$.)\n",
    "\n",
    "In practice, if $R'$ is not a strict subset of $R$, i.e., if $R' \\subset R$, you don't need an RS.\n",
    "\n",
    "## 1.5 Base model\n",
    "\n",
    "The essential components, known as the fundamental entities.\n",
    "\n",
    "## 1.6 Profiles\n",
    "\n",
    "Profiles are a collection of objects (users or items, in our framework) and their attributes.\n",
    "\n",
    "Consider the set of attributes $A = \\{a_0, ..., a_r\\}$, where $r \\in \\mathbb{N_0}$. Let be $A$ an arbitrary set of item attributes.\n",
    "\n",
    "We can define profiles $P = \\{p_{i_0, a_0}, ..., p_{i_n, a_r}\\}$, where $(i, a) \\in I \\times A$ and values $p_{i, a}$ indicate the presence of $a$ in $i$.\n",
    "\n",
    "Let be $B$ be an arbitrary set of user characteristics, and we can apply the same reasoning to build user profiles.\n",
    "\n",
    "Typically, item profiles contain information about the content of the items, and user profiles are more focused on demographics.\n",
    "\n",
    "## 1.7 User model\n",
    "\n",
    "As introduced above, RS are in the business of matching users and items.\n",
    "\n",
    "Sometimes, it's convenient to have user and item profiles in the same attribute space $A$.\n",
    "\n",
    "The user model $M$, defines $M = \\{m_{u_0, a_0}, ..., m_{u_m, a_r}\\}$, for $(u, a) \\in U \\times A$, where $A$ is the set of item attributes.\n",
    "\n",
    "## 1.8 Extended model\n",
    "\n",
    "The extended model layer contains optional components which apply only to particular RS architectures."
   ]
  },
  {
   "cell_type": "markdown",
   "metadata": {},
   "source": [
    "# 2 Community matrix\n",
    "\n",
    "This matrix is not a thing, as there's no community matrix: not in the literature, not anywhere. (Call it a thought experiment.)\n",
    "\n",
    "We described our community as a finite set $U \\times I = \\{(u_0, i_0), (u_0, i_1), ..., (u_0, i_n), ..., (u_m, i_n)\\}$.\n",
    "\n",
    "Alternatively, the space of all possible user-item pairs $(u,i) \\in U \\times I$ can be represented as a $m$ x $n$ matrix:\n",
    "\n",
    "$$\\begin{bmatrix}(u_0, i_0) & (u_0, i_1) & ... & (u_0, i_n)\\\\ (u_1, i_0) & (u_1, i_1) & ... & (u_1, i_n)\\\\... & ... & ... & ...\\\\ (u_m, i_0) & (u_m, i_1) & ... & (u_m, i_n)\\end{bmatrix}$$\n",
    "\n",
    "Each row $u \\times I$ is a user $u \\in U$ and each column $U \\times i$ is an item.\n",
    "\n",
    "Growth means more users (rows) and items (columns), which is excellent for the community but bad on your servers.\n",
    "\n",
    "# 3 Ratings matrix\n",
    "\n",
    "The community matrix hints at the canonical representation of the ratings matrix, at the core of any RS.\n",
    "\n",
    "We represent the set $R = \\{r_{u_0, i_0}, ..., r_{u_m, i_n}\\}$ as a $U \\times I$  matrix, where the values are the ratings $r_{u, i}$, if they exist:\n",
    "\n",
    "$$\\begin{bmatrix}r_{u_0, i_0} & r_{u_0, i_1} & ... & r_{u_0, i_n}\\\\ r_{u_1, i_0} & r_{u_1, i_1} & ... & r_{u_1, i_n}\\\\... & ... & ... & ...\\\\ r_{u_m, i_0} & r_{u_m, i_1} & ... & r_{u_m, i_n}\\end{bmatrix}$$\n",
    "\n",
    "We represent not recorded ratings $r_{u, i} \\notin R'$ as zeros or missing values, enforcing the $U \\times I$ shape.\n",
    "\n",
    "## 3.1 Sparsity\n",
    "\n",
    "Keeping the entire community leads to large, very sparse rating matrices, as ratings are relatively rare.\n",
    "\n",
    "We can compute the sparsity as the number of ratings missing among all possible ratings.\n",
    "\n",
    "## 3.2 Important subsets\n",
    "\n",
    "The subset of users that have rated an item $i \\in I$ is given by $U_i \\subseteq U$. \n",
    "\n",
    "We write $I_u \\subseteq I$ the subset of items rated by user $u \\in U$.\n",
    "\n",
    "The subset items that have been rated by users $u, v \\in U$ is $I_{u, v} \\subseteq I$. \n",
    "\n",
    "Finally, $U_{i, j} \\subseteq U$ is used for the subset of users that rated both items $i, j \\in I$."
   ]
  },
  {
   "cell_type": "markdown",
   "metadata": {},
   "source": [
    "# 4 Creating a ratings matrix\n",
    "\n",
    "## 4.1 Community matrix\n",
    "\n",
    "As we know, the community matrix represents our entire community in a single matrix.\n",
    "\n",
    "Take $U = \\{Ana, Miguel, Beatriz\\}$, and $I = \\{Bananas, Water, Milk\\}$. \n",
    "\n",
    "We represent $U \\times I$, aka the community matrix, as:\n",
    "\n",
    "$$\\begin{bmatrix}(Ana, Bananas) & (Ana, Water) & (Ana, Milk)\\\\ (Miguel, Bananas) & (Miguel, Water) & (Miguel, Milk)\\\\ (Beatriz, Bananas) & (Beatriz, Water) & (Beatriz, Milk)\\end{bmatrix}$$\n",
    "\n",
    "However, as we already know, the community matrix is not a thing.\n",
    "\n",
    "## 4.2 Types of data\n",
    "\n",
    "Users manifest their opinion about an item in different ways.\n",
    "\n",
    "### Explicit and implicit feedback\n",
    "\n",
    "Feedback is said to be explicit when provided by the user and implicit if inferred based on user actions (e.g., clicks).\n",
    "\n",
    "Implicit feedback usually takes the form of unary data,\n",
    "\n",
    "### Rating scale\n",
    "\n",
    "We write $S$ the set of possible ratings. For example, in 1-5 stars rating system $r_{u, i} \\in S = \\{1, 2, 3, 4, 5\\}$.\n",
    "\n",
    "| Type of data    | Description                          | Rating scale (examples) | Explicit/Implicit |  \n",
    "|-----------------|--------------------------------------|-------------------------|-------------------|\n",
    "| Numeric         | Continuous ratings                   | $S = [1, 5]$            | Explicit          |\n",
    "| Ordinal         | Ordered categories                   | $S = \\{1, 2, 3, 4, 5\\}$ | Explicit          |\n",
    "| Binary          | Good or bad  (e.g., Upvote/Downvote) | $S = \\{-1, 1\\}$         | Explicit          |\n",
    "| Unary           | User action  (e.g., Click, Purchase) | $S = \\{1\\}$             | Implicit          |\n",
    "*Table 1: Different types of data and rating scales*\n",
    "\n",
    "## 4.3 Ratings matrix\n",
    "\n",
    "Consider the following ratings matrix $R$, with $S = \\{1, 2, 3, 4, 5\\}$:\n",
    "\n",
    "$$\\begin{bmatrix}1 &  & 2\\\\ 1 & 5 & \\\\  & 2 & 1\\end{bmatrix}$$\n",
    "\n",
    "## 4.4 Representing vectors\n",
    "\n",
    "Let's go bit by bit, starting with the first row of the matrix, corresponding to:\n",
    "\n",
    "$$\\begin{bmatrix}(Ana, Bananas) & (Ana, Water) & (Ana, Milk)\\end{bmatrix}$$\n",
    "\n",
    "To clarify, $I_{Ana} = \\{Bananas, Milk\\}$ and $(Ana, Bananas) \\notin R'$. Right?\n",
    "\n",
    "At the core of Numpy is the homogeneous (i.e., all elements of the same type) n-dimensional array.\n",
    "\n",
    "Corresponding to the NumPy array:\n",
    "\n",
    "```\n",
    "┌───┬───┬───┐\n",
    "│ 1 │   │ 2 │\n",
    "└───┴───┴───┘\n",
    "```\n",
    "\n",
    "We can create using `numpy.array` with an array-like object, a standard Python list in this case."
   ]
  },
  {
   "cell_type": "code",
   "execution_count": 2,
   "metadata": {},
   "outputs": [
    {
     "data": {
      "text/plain": [
       "array([ 1., nan,  2.])"
      ]
     },
     "execution_count": 2,
     "metadata": {},
     "output_type": "execute_result"
    }
   ],
   "source": [
    "np.array([1, np.NaN, 2])"
   ]
  },
  {
   "cell_type": "markdown",
   "metadata": {},
   "source": [
    "The resulting array is what we call a rank-1 because it is a vector with one dimension.\n",
    "\n",
    "Nonetheless, rank-1 arrays can be ambiguous, so we represent vectors as rank-2 arrays, i.e., as matrices with two dimensions.\n",
    "\n",
    "The general convention is to use a column vector instead, i.e., a $n$ by 1 matrix, such as:\n",
    "\n",
    "$$\\begin{bmatrix}1 \\\\  \\\\ 2\\end{bmatrix}$$\n",
    "\n",
    "Corresponding to a 3 by 1 matrix, such as:\n",
    "\n",
    "```\n",
    "┌───┐\n",
    "│ 1 │\n",
    "├───┤\n",
    "│   │\n",
    "├───┤\n",
    "│ 2 │\n",
    "└───┘\n",
    "```\n",
    "\n",
    "We do this by using a list of lists, with one nested list per row."
   ]
  },
  {
   "cell_type": "code",
   "execution_count": 3,
   "metadata": {},
   "outputs": [
    {
     "data": {
      "text/plain": [
       "array([[ 1.],\n",
       "       [nan],\n",
       "       [ 2.]])"
      ]
     },
     "execution_count": 3,
     "metadata": {},
     "output_type": "execute_result"
    }
   ],
   "source": [
    "np.array([[1], [np.NaN], [2]])"
   ]
  },
  {
   "cell_type": "markdown",
   "metadata": {},
   "source": [
    "## 4.5 Representing matrices"
   ]
  },
  {
   "cell_type": "markdown",
   "metadata": {},
   "source": [
    "Finally, we create our ratings matrix $R$, corresponding to:\n",
    "```\n",
    "┌───┬───┬───┐\n",
    "│ 1 │   │ 2 │\n",
    "├───┼───┼───┤\n",
    "│ 1 │ 5 │   │\n",
    "├───┼───┼───┤\n",
    "│   │ 2 │ 1 │\n",
    "└───┴───┴───┘\n",
    "```\n",
    "\n",
    "Conveniently, we can pass a list of lists, just like we did above."
   ]
  },
  {
   "cell_type": "code",
   "execution_count": 4,
   "metadata": {},
   "outputs": [
    {
     "data": {
      "text/plain": [
       "array([[ 1., nan,  2.],\n",
       "       [ 1.,  5., nan],\n",
       "       [nan,  2.,  1.]])"
      ]
     },
     "execution_count": 4,
     "metadata": {},
     "output_type": "execute_result"
    }
   ],
   "source": [
    "R = [[1, np.NaN, 2], [1, 5, np.NaN], [np.NaN, 2, 1]]\n",
    "R = np.array(R)\n",
    "R"
   ]
  },
  {
   "cell_type": "markdown",
   "metadata": {},
   "source": [
    "## 4.6 Matrix attributes\n",
    "\n",
    "Some important attributes of any `ndarray`, to keep in mind."
   ]
  },
  {
   "cell_type": "code",
   "execution_count": 5,
   "metadata": {},
   "outputs": [
    {
     "name": "stdout",
     "output_type": "stream",
     "text": [
      "R is a 2-dimensional, 3 by 3 matrix, of float64 elements.\n"
     ]
    }
   ],
   "source": [
    "ndims = R.ndim\n",
    "nrows = R.shape[0]\n",
    "ncols = R.shape[0] \n",
    "dtype = R.dtype\n",
    "\n",
    "print(\"R is a {}-dimensional, {} by {} matrix, of {} elements.\".format(ndims, nrows, ncols, dtype))"
   ]
  },
  {
   "cell_type": "markdown",
   "metadata": {},
   "source": [
    "## 4.7 Saving the matrix\n",
    "\n",
    "We can save the matrix to a binary file in NumPy `.npy` format.\n",
    "\n",
    "Note that `save` is a stand-alone function and not an array method."
   ]
  },
  {
   "cell_type": "code",
   "execution_count": 6,
   "metadata": {},
   "outputs": [],
   "source": [
    "np.save('../data/interim/ratings_matrix', R)"
   ]
  },
  {
   "cell_type": "markdown",
   "metadata": {},
   "source": [
    "Alternatively, we can dump the matrix into a `.csv` file, as we would typically do."
   ]
  },
  {
   "cell_type": "code",
   "execution_count": 7,
   "metadata": {},
   "outputs": [],
   "source": [
    "np.savetxt(\"../data/interim/ratings_matrix.csv\", R, delimiter=\",\")"
   ]
  },
  {
   "cell_type": "markdown",
   "metadata": {},
   "source": [
    "# 5 Prototyping ratings matrices\n",
    "\n",
    "Let's prototype some different ratings matrices $R$, using the NumPy's [random sampling module](https://docs.scipy.org/doc/numpy-1.13.0/reference/routines.random.html).\n",
    "\n",
    "## 5.1 Numeric data\n",
    "\n",
    "Perhaps the most popular of the random sampling methods is `rand`, which generates random values between 0 and 1 in a given shape."
   ]
  },
  {
   "cell_type": "code",
   "execution_count": 8,
   "metadata": {},
   "outputs": [
    {
     "data": {
      "text/plain": [
       "array([[0.93678268, 0.267354  , 0.21150915],\n",
       "       [0.87369361, 0.49965834, 0.43313304],\n",
       "       [0.44855671, 0.4806935 , 0.48229396]])"
      ]
     },
     "execution_count": 8,
     "metadata": {},
     "output_type": "execute_result"
    }
   ],
   "source": [
    "np.random.rand(3, 3)"
   ]
  },
  {
   "cell_type": "markdown",
   "metadata": {},
   "source": [
    "But now, consider  $S = [1, 5]$. How can you generate such a matrix?\n",
    "\n",
    "We can call a method to draw samples from a `uniform` distribution."
   ]
  },
  {
   "cell_type": "code",
   "execution_count": 9,
   "metadata": {},
   "outputs": [
    {
     "data": {
      "text/plain": [
       "array([[3.89105499, 4.53467806, 4.35697619],\n",
       "       [1.94887842, 1.45611082, 3.77513512],\n",
       "       [1.4216611 , 1.91775071, 3.51133121]])"
      ]
     },
     "execution_count": 9,
     "metadata": {},
     "output_type": "execute_result"
    }
   ],
   "source": [
    "np.random.uniform(low=1, high=5, size=(3, 3))"
   ]
  },
  {
   "cell_type": "markdown",
   "metadata": {},
   "source": [
    "## 5.2 Discrete data\n",
    "\n",
    "If we want a discrete, ordinal output, we can use `randint`, return random integers from low (inclusive) from high (exclusive).\n",
    "\n",
    "It's perfect to generate ratings in the $S = \\{1, 2, 3, 4, 5\\}$."
   ]
  },
  {
   "cell_type": "code",
   "execution_count": 10,
   "metadata": {},
   "outputs": [
    {
     "data": {
      "text/plain": [
       "array([[1, 5, 1],\n",
       "       [2, 0, 5],\n",
       "       [2, 0, 4]])"
      ]
     },
     "execution_count": 10,
     "metadata": {},
     "output_type": "execute_result"
    }
   ],
   "source": [
    "np.random.randint(low=0, high=6, size=(3, 3))"
   ]
  },
  {
   "cell_type": "markdown",
   "metadata": {},
   "source": [
    "## 5.3 Binary data\n",
    "\n",
    "The method `choice` is conventional to generate random samples from a given array.\n",
    "\n",
    "Binary scale, $S = \\{-1, 1\\}$."
   ]
  },
  {
   "cell_type": "code",
   "execution_count": 11,
   "metadata": {},
   "outputs": [
    {
     "data": {
      "text/plain": [
       "array([[ 1,  1, -1],\n",
       "       [ 1, -1,  1],\n",
       "       [-1, -1,  1]])"
      ]
     },
     "execution_count": 11,
     "metadata": {},
     "output_type": "execute_result"
    }
   ],
   "source": [
    "np.random.choice(a=[-1, 1], size=(3, 3))"
   ]
  },
  {
   "cell_type": "markdown",
   "metadata": {},
   "source": [
    "## 5.4 Unary data\n",
    "\n",
    "We can repeat the process to generate unary data."
   ]
  },
  {
   "cell_type": "code",
   "execution_count": 12,
   "metadata": {},
   "outputs": [
    {
     "data": {
      "text/plain": [
       "array([[1, 1, 0],\n",
       "       [0, 1, 0],\n",
       "       [0, 1, 1]])"
      ]
     },
     "execution_count": 12,
     "metadata": {},
     "output_type": "execute_result"
    }
   ],
   "source": [
    "np.random.choice(a=[0, 1], size=(3, 3))"
   ]
  },
  {
   "cell_type": "markdown",
   "metadata": {},
   "source": [
    "# 6 Recommendations\n",
    "\n",
    "We need to fill in the blanks in our ratings matrix and return the best possible items to the user.\n",
    "\n",
    "Throughout the course, we learn different ways to predict unseen ratings, but the outputs remain unchanged.\n",
    "\n",
    "## 6.1 Prediction step\n",
    "\n",
    "The RS core computation is to predict the utility of unseen items $i \\in I \\setminus I_u$ to a user $u$.\n",
    "\n",
    "At the core, we learn a function $f$ that maps user-item pairs into ratings $f : U \\times I \\to S$ given by $\\hat{r}_{u, i} = f(u, i)$.\n",
    "\n",
    "Once we have it, there two main types of recommendations: top-$N$ and best-item.\n",
    "\n",
    "## 6.2 Top-*K* items\n",
    "\n",
    "For a given user $u \\in U$, we need a set of predictions $\\hat{R}_u = \\{f(u, i) : (u, i) \\in u \\times (I \\setminus I_u)\\}$.\n",
    "\n",
    "Then, we take a subset $L_u \\subset (I \\setminus I_u$), containing the items with the *k*-largest predicted ratings $\\hat{r}_{u, i} \\in \\hat{R}_u$.\n",
    "\n",
    "Optionally, $L_u = \\{i_0, i_1, ..., i_k\\}$ can be ordered as $\\hat{r}_{u, i_0} \\geq \\hat{r}_{u, i_1} \\geq ... \\geq \\hat{r}_{u, i_k}$.\n",
    "\n",
    "## 6.3 Best-item\n",
    "\n",
    "Can be seen as a particular case of top-$K$, with $K = 1$.\n",
    "\n",
    "Thus, the function $f(u, i)$ can be used to find the best item, such as $j = \\underset{i \\space \\in \\space I \\setminus I_u}{\\mathrm{argmax}} \\space f(u, i)$.\n",
    "\n",
    "# 7 Context-awareness\n",
    "\n",
    "Finally, some systems consider the context, alongside users and items. Take $C$ as a set of contexts.\n",
    "\n",
    "The reasoning is that sometimes the utility for an item is observed to depend on other variables.\n",
    "\n",
    "(A very good camera, for example, may be of lesser utility for a newbie than it is for pro, for example.)\n",
    "\n",
    "In these cases, we need $f$ to use the context as well, as $f : U \\times I \\times C \\to S$ given by $\\hat{r}_{u, i, c} = f(u, i, c)$.\n",
    "\n",
    "For a given user $u \\in U$, the predictions become $\\hat{R}_u = \\{f(u, i, c) : (u, i, c) \\in u \\times (I \\setminus I_u) \\times C\\}$.\n",
    "\n",
    "## 7.1 Time\n",
    "\n",
    "We can think of time as a particular case of context-aware RS, where $\\hat{r}_{u, i, t} = f(u, i, t)$."
   ]
  }
 ],
 "metadata": {
  "kernelspec": {
   "display_name": "Python 3",
   "language": "python",
   "name": "python3"
  },
  "language_info": {
   "codemirror_mode": {
    "name": "ipython",
    "version": 3
   },
   "file_extension": ".py",
   "mimetype": "text/x-python",
   "name": "python",
   "nbconvert_exporter": "python",
   "pygments_lexer": "ipython3",
   "version": "3.6.5"
  }
 },
 "nbformat": 4,
 "nbformat_minor": 2
}
